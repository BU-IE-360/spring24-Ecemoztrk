Appendix: ChatGPT and Lecture notes including codes were used especially for adding seasonality dummy variables
